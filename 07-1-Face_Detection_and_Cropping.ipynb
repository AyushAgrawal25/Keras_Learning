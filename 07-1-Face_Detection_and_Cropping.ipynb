{
 "cells": [
  {
   "cell_type": "code",
   "execution_count": 10,
   "metadata": {},
   "outputs": [],
   "source": [
    "import cv2\n",
    "import os"
   ]
  },
  {
   "cell_type": "markdown",
   "metadata": {},
   "source": [
    "## Face Cropping"
   ]
  },
  {
   "cell_type": "code",
   "execution_count": 52,
   "metadata": {},
   "outputs": [],
   "source": [
    "def cropFaces(imgPath, croppedFacesFolderPath):\n",
    "    imgName=os.path.basename(imgPath)\n",
    "    # Read image\n",
    "    img=cv2.imread(imgPath)\n",
    "\n",
    "    # Detect faces\n",
    "    faceCascade=cv2.CascadeClassifier('/Coding/Learning/DL_Learning/Saved_Models/FaceDetection_Classifiers/haarcascade_frontalface_default.xml')\n",
    "    faces=faceCascade.detectMultiScale(img,1.1,4)\n",
    "\n",
    "    # Crop faces\n",
    "    count=1;\n",
    "    for (x,y,w,h) in faces:\n",
    "        crop_img=img[y:y+h,x:x+w]\n",
    "\n",
    "        # Check and create cropped faces folder\n",
    "        if not os.path.exists(croppedFacesFolderPath):\n",
    "            os.makedirs(croppedFacesFolderPath)\n",
    "\n",
    "        # Save cropped faces\n",
    "        croppedFaceName=imgName+'_face.'+str(count)+'.jpg'\n",
    "        cv2.imwrite(os.path.join(croppedFacesFolderPath, croppedFaceName), crop_img)  \n",
    "        count+=1\n",
    "\n",
    "    return count"
   ]
  },
  {
   "cell_type": "code",
   "execution_count": 53,
   "metadata": {},
   "outputs": [
    {
     "data": {
      "text/plain": [
       "2"
      ]
     },
     "execution_count": 53,
     "metadata": {},
     "output_type": "execute_result"
    }
   ],
   "source": [
    "imgFolderPath='/Coding/Learning/DL_Learning/Images/Group_Images/';\n",
    "imgName='group.image.05.jpg'\n",
    "imgPath=os.path.join(imgFolderPath,imgName)\n",
    "\n",
    "croppedFacesFolderPath=os.path.join(imgFolderPath,'Cropped_Faces');\n",
    "\n",
    "cropFaces(imgPath, croppedFacesFolderPath)\n"
   ]
  },
  {
   "cell_type": "markdown",
   "metadata": {},
   "source": [
    "## Face Alignment"
   ]
  },
  {
   "cell_type": "code",
   "execution_count": 54,
   "metadata": {},
   "outputs": [],
   "source": [
    "def faceAlignment(imgPath):\n",
    "    # Read image \n",
    "    img=cv2.imread(imgPath)\n",
    "\n",
    "    # Detect eyes\n",
    "    eyeCascade=cv2.CascadeClassifier('/Coding/Learning/DL_Learning/Saved_Models/FaceDetection_Classifiers/haarcascade_eye_tree_eyeglasses.xml')\n",
    "    eyes=eyeCascade.detectMultiScale(img,1.1,4)\n",
    "\n",
    "    # Create rectangle around eyes\n",
    "    for (x,y,w,h) in eyes:\n",
    "        cv2.rectangle(img,(x,y),(x+w,y+h),(255,0,0),2)\n",
    "    \n",
    "    # Show image\n",
    "    cv2.imshow('img',img)\n",
    "    cv2.waitKey(0)\n",
    "    cv2.destroyAllWindows()\n",
    "\n",
    "    # TODO: finish the face alignment\n",
    "\n",
    "\n",
    "imgPath='/Coding/Learning/DL_Learning/Images/Group_Images/Cropped_Faces/group.image.05.jpg_face.1.jpg'\n",
    "faceAlignment(imgPath)"
   ]
  },
  {
   "cell_type": "code",
   "execution_count": null,
   "metadata": {},
   "outputs": [],
   "source": []
  }
 ],
 "metadata": {
  "kernelspec": {
   "display_name": "Python 3.10.8 64-bit",
   "language": "python",
   "name": "python3"
  },
  "language_info": {
   "codemirror_mode": {
    "name": "ipython",
    "version": 3
   },
   "file_extension": ".py",
   "mimetype": "text/x-python",
   "name": "python",
   "nbconvert_exporter": "python",
   "pygments_lexer": "ipython3",
   "version": "3.10.8"
  },
  "orig_nbformat": 4,
  "vscode": {
   "interpreter": {
    "hash": "a81af83e9896d07241cbb362b0510c365a54d0c08254bf862d64fa80a66b9cc5"
   }
  }
 },
 "nbformat": 4,
 "nbformat_minor": 2
}
